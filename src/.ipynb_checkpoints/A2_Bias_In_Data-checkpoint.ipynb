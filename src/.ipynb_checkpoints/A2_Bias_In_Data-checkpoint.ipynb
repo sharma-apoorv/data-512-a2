{
 "cells": [
  {
   "cell_type": "markdown",
   "id": "f997b824",
   "metadata": {},
   "source": [
    "# A2: Bias in Data\n",
    "\n",
    "The goal of this assignment is to explore the concept of bias through data on Wikipedia articles - specifically, articles on political figures from a variety of countries. We combine a dataset of Wikipedia articles with a dataset of country populations, and use a machine learning service called ORES to estimate the quality of each article.\n",
    "\n",
    "We then perform an analysis of how the coverage of politicians on Wikipedia and the quality of articles about politicians varies between countries. The analysis will consist of a series of tables that show:\n",
    "1. the countries with the greatest and least coverage of politicians on Wikipedia compared to their population.\n",
    "2. the countries with the highest and lowest proportion of high quality articles about politicians.\n",
    "3. a ranking of geographic regions by articles-per-person and proportion of high quality articles.\n"
   ]
  },
  {
   "cell_type": "markdown",
   "id": "de573a83",
   "metadata": {},
   "source": [
    "### Import Libraries"
   ]
  },
  {
   "cell_type": "code",
   "execution_count": 1,
   "id": "3c587947",
   "metadata": {},
   "outputs": [],
   "source": [
    "import os\n",
    "import requests\n",
    "from urllib.parse import urlencode\n",
    "\n",
    "import pandas as pd\n",
    "import numpy as np\n",
    "\n",
    "from pprint import pprint as pp\n",
    "from tqdm import tqdm"
   ]
  },
  {
   "cell_type": "markdown",
   "id": "2543d323",
   "metadata": {},
   "source": [
    "### Define Constants"
   ]
  },
  {
   "cell_type": "code",
   "execution_count": 2,
   "id": "af83fbce",
   "metadata": {},
   "outputs": [],
   "source": [
    "RAW_DATA_PATH = '../data/raw'\n",
    "PROCESSED_DATA_PATH = '../data/processed'\n",
    "ERROR_DATA_PATH = '../data/errors'\n",
    "\n",
    "for path in [RAW_DATA_PATH, PROCESSED_DATA_PATH, ERROR_DATA_PATH]:\n",
    "    if not os.path.exists(path):\n",
    "        os.makedirs(path)"
   ]
  },
  {
   "cell_type": "code",
   "execution_count": 164,
   "id": "a2755dce",
   "metadata": {},
   "outputs": [],
   "source": [
    "# Raw Data\n",
    "RAW_COUNTRY_DATASET_FPATH = os.path.join(RAW_DATA_PATH, 'page_data.csv')\n",
    "RAW_WORLD_POPULATION_DATASET_FPATH = os.path.join(RAW_DATA_PATH, 'WPDS_2020_data.csv')\n",
    "\n",
    "#Processed prediction data\n",
    "PROCESSED_POLITICIANS_DATASET_FPATH = os.path.join(PROCESSED_DATA_PATH, 'politicians_country.csv')\n",
    "PROCESSED_WORLD_POPULATION_COUNTRY_LEVEL_DATASET_FPATH = os.path.join(PROCESSED_DATA_PATH, 'world_population_country_level.csv')\n",
    "PROCESSED_WORLD_POPULATION_REGION_LEVEL_DATASET_FPATH = os.path.join(PROCESSED_DATA_PATH, 'world_population_region_level.csv')\n",
    "PROCESSED_MISSING_PREDICTION_DATA_FPATH = os.path.join(ERROR_DATA_PATH, 'missing_prediction_revids.csv')\n",
    "\n",
    "# Processed merged data\n",
    "PROCESSED_POLITICIANS_WORLD_POPULATION_MERGED_FPATH = os.path.join(PROCESSED_DATA_PATH,'wp_wpds_politicians_by_country.csv')\n",
    "PROCESSED_POLITICIANS_WORLD_POPULATION_NO_MATCH_FPATH = os.path.join(ERROR_DATA_PATH,'wp_wpds_countries-no_match.csv')"
   ]
  },
  {
   "cell_type": "markdown",
   "id": "390d6eea",
   "metadata": {},
   "source": [
    "## 1. Data Acquisition\n",
    "\n",
    "We obtain the data from several different places:\n",
    "1. The Wikipedia politicians by country dataset can be found on [Figshare](https://figshare.com/articles/Untitled_Item/5513449)\n",
    "    * We first download the zipped folder manually\n",
    "    * We then extracted the zipped folder\n",
    "    * Inside the folder we go to: `country/country/data`\n",
    "    * Here, we copy `page_data.csv` and place this inside the raw data path\n",
    "2. The population data is available in CSV format as [WPDS_2020_data.csv](https://docs.google.com/spreadsheets/d/1CFJO2zna2No5KqNm9rPK5PCACoXKzb-nycJFhV689Iw/edit?usp=sharing)\n",
    "    * This dataset is drawn from the world population data sheet published by the [Population Reference Bureau](https://www.prb.org/international/indicator/population/table/).\n"
   ]
  },
  {
   "cell_type": "code",
   "execution_count": 4,
   "id": "2a0ee6ff",
   "metadata": {},
   "outputs": [],
   "source": [
    "df_pcd = pd.read_csv(RAW_COUNTRY_DATASET_FPATH)\n",
    "df_wpd = pd.read_csv(RAW_WORLD_POPULATION_DATASET_FPATH)"
   ]
  },
  {
   "cell_type": "code",
   "execution_count": 5,
   "id": "8fe34aad",
   "metadata": {},
   "outputs": [
    {
     "data": {
      "text/html": [
       "<div>\n",
       "<style scoped>\n",
       "    .dataframe tbody tr th:only-of-type {\n",
       "        vertical-align: middle;\n",
       "    }\n",
       "\n",
       "    .dataframe tbody tr th {\n",
       "        vertical-align: top;\n",
       "    }\n",
       "\n",
       "    .dataframe thead th {\n",
       "        text-align: right;\n",
       "    }\n",
       "</style>\n",
       "<table border=\"1\" class=\"dataframe\">\n",
       "  <thead>\n",
       "    <tr style=\"text-align: right;\">\n",
       "      <th></th>\n",
       "      <th>page</th>\n",
       "      <th>country</th>\n",
       "      <th>rev_id</th>\n",
       "    </tr>\n",
       "  </thead>\n",
       "  <tbody>\n",
       "    <tr>\n",
       "      <th>0</th>\n",
       "      <td>Template:ZambiaProvincialMinisters</td>\n",
       "      <td>Zambia</td>\n",
       "      <td>235107991</td>\n",
       "    </tr>\n",
       "    <tr>\n",
       "      <th>1</th>\n",
       "      <td>Bir I of Kanem</td>\n",
       "      <td>Chad</td>\n",
       "      <td>355319463</td>\n",
       "    </tr>\n",
       "    <tr>\n",
       "      <th>2</th>\n",
       "      <td>Template:Zimbabwe-politician-stub</td>\n",
       "      <td>Zimbabwe</td>\n",
       "      <td>391862046</td>\n",
       "    </tr>\n",
       "    <tr>\n",
       "      <th>3</th>\n",
       "      <td>Template:Uganda-politician-stub</td>\n",
       "      <td>Uganda</td>\n",
       "      <td>391862070</td>\n",
       "    </tr>\n",
       "    <tr>\n",
       "      <th>4</th>\n",
       "      <td>Template:Namibia-politician-stub</td>\n",
       "      <td>Namibia</td>\n",
       "      <td>391862409</td>\n",
       "    </tr>\n",
       "  </tbody>\n",
       "</table>\n",
       "</div>"
      ],
      "text/plain": [
       "                                 page   country     rev_id\n",
       "0  Template:ZambiaProvincialMinisters    Zambia  235107991\n",
       "1                      Bir I of Kanem      Chad  355319463\n",
       "2   Template:Zimbabwe-politician-stub  Zimbabwe  391862046\n",
       "3     Template:Uganda-politician-stub    Uganda  391862070\n",
       "4    Template:Namibia-politician-stub   Namibia  391862409"
      ]
     },
     "execution_count": 5,
     "metadata": {},
     "output_type": "execute_result"
    }
   ],
   "source": [
    "df_pcd.head(5)"
   ]
  },
  {
   "cell_type": "code",
   "execution_count": 6,
   "id": "eaaa5a22",
   "metadata": {},
   "outputs": [
    {
     "data": {
      "text/html": [
       "<div>\n",
       "<style scoped>\n",
       "    .dataframe tbody tr th:only-of-type {\n",
       "        vertical-align: middle;\n",
       "    }\n",
       "\n",
       "    .dataframe tbody tr th {\n",
       "        vertical-align: top;\n",
       "    }\n",
       "\n",
       "    .dataframe thead th {\n",
       "        text-align: right;\n",
       "    }\n",
       "</style>\n",
       "<table border=\"1\" class=\"dataframe\">\n",
       "  <thead>\n",
       "    <tr style=\"text-align: right;\">\n",
       "      <th></th>\n",
       "      <th>FIPS</th>\n",
       "      <th>Name</th>\n",
       "      <th>Type</th>\n",
       "      <th>TimeFrame</th>\n",
       "      <th>Data (M)</th>\n",
       "      <th>Population</th>\n",
       "    </tr>\n",
       "  </thead>\n",
       "  <tbody>\n",
       "    <tr>\n",
       "      <th>0</th>\n",
       "      <td>WORLD</td>\n",
       "      <td>WORLD</td>\n",
       "      <td>World</td>\n",
       "      <td>2019</td>\n",
       "      <td>7772.850</td>\n",
       "      <td>7772850000</td>\n",
       "    </tr>\n",
       "    <tr>\n",
       "      <th>1</th>\n",
       "      <td>AFRICA</td>\n",
       "      <td>AFRICA</td>\n",
       "      <td>Sub-Region</td>\n",
       "      <td>2019</td>\n",
       "      <td>1337.918</td>\n",
       "      <td>1337918000</td>\n",
       "    </tr>\n",
       "    <tr>\n",
       "      <th>2</th>\n",
       "      <td>NORTHERN AFRICA</td>\n",
       "      <td>NORTHERN AFRICA</td>\n",
       "      <td>Sub-Region</td>\n",
       "      <td>2019</td>\n",
       "      <td>244.344</td>\n",
       "      <td>244344000</td>\n",
       "    </tr>\n",
       "    <tr>\n",
       "      <th>3</th>\n",
       "      <td>DZ</td>\n",
       "      <td>Algeria</td>\n",
       "      <td>Country</td>\n",
       "      <td>2019</td>\n",
       "      <td>44.357</td>\n",
       "      <td>44357000</td>\n",
       "    </tr>\n",
       "    <tr>\n",
       "      <th>4</th>\n",
       "      <td>EG</td>\n",
       "      <td>Egypt</td>\n",
       "      <td>Country</td>\n",
       "      <td>2019</td>\n",
       "      <td>100.803</td>\n",
       "      <td>100803000</td>\n",
       "    </tr>\n",
       "  </tbody>\n",
       "</table>\n",
       "</div>"
      ],
      "text/plain": [
       "              FIPS             Name        Type  TimeFrame  Data (M)  \\\n",
       "0            WORLD            WORLD       World       2019  7772.850   \n",
       "1           AFRICA           AFRICA  Sub-Region       2019  1337.918   \n",
       "2  NORTHERN AFRICA  NORTHERN AFRICA  Sub-Region       2019   244.344   \n",
       "3               DZ          Algeria     Country       2019    44.357   \n",
       "4               EG            Egypt     Country       2019   100.803   \n",
       "\n",
       "   Population  \n",
       "0  7772850000  \n",
       "1  1337918000  \n",
       "2   244344000  \n",
       "3    44357000  \n",
       "4   100803000  "
      ]
     },
     "execution_count": 6,
     "metadata": {},
     "output_type": "execute_result"
    }
   ],
   "source": [
    "df_wpd.head(5)"
   ]
  },
  {
   "cell_type": "markdown",
   "id": "f1dbaf7b",
   "metadata": {},
   "source": [
    "### Data Cleaning\n",
    "\n",
    "There is some information that is not needed for analysis in each of the files mentioned above. Thus, we performing the following cleaning steps:\n",
    "1. Country Dataset\n",
    "    * The dataset contains some page names that start with the string \"Template:\".\n",
    "    * These pages are not Wikipedia articles, and should not be included in your analysis.\n",
    "2. Population Dataset\n",
    "    * This dataset contains some rows that provide cumulative regional population counts, rather than country-level counts.\n",
    "    * These rows are distinguished by having ALL CAPS values in the 'geography' field (e.g. AFRICA, OCEANIA).\n",
    "    * We remove these from the dataset, but retain a copy of these in a seperate file"
   ]
  },
  {
   "cell_type": "code",
   "execution_count": 7,
   "id": "651069de",
   "metadata": {},
   "outputs": [],
   "source": [
    "df_pcd = df_pcd[df_pcd[\"page\"].str.contains(\"Template:\")==False]\n",
    "df_wpd_country = df_wpd[df_wpd['Name'].str.isupper() == False] # Country-level counts\n",
    "df_wpd_region = df_wpd[df_wpd['Name'].str.isupper()] # Cumulative region level counts"
   ]
  },
  {
   "cell_type": "code",
   "execution_count": 8,
   "id": "7245b126",
   "metadata": {},
   "outputs": [
    {
     "data": {
      "text/plain": [
       "array(['Algeria', 'Egypt', 'Libya', 'Morocco', 'Sudan', 'Tunisia',\n",
       "       'Western Sahara', 'Benin', 'Burkina Faso', 'Cape Verde',\n",
       "       \"Cote d'Ivoire\", 'Gambia', 'Ghana', 'Guinea', 'Guinea-Bissau',\n",
       "       'Liberia', 'Mali', 'Mauritania', 'Niger', 'Nigeria', 'Senegal',\n",
       "       'Sierra Leone', 'Togo', 'Burundi', 'Comoros', 'Djibouti',\n",
       "       'Eritrea', 'Ethiopia', 'Kenya', 'Madagascar', 'Malawi',\n",
       "       'Mauritius', 'Mayotte', 'Mozambique', 'Reunion', 'Rwanda',\n",
       "       'Seychelles', 'Somalia', 'South Sudan', 'Tanzania', 'Uganda',\n",
       "       'Zambia', 'Zimbabwe', 'Angola', 'Cameroon',\n",
       "       'Central African Republic', 'Chad', 'Congo', 'Congo, Dem. Rep.',\n",
       "       'Equatorial Guinea', 'Gabon', 'Sao Tome and Principe', 'Botswana',\n",
       "       'eSwatini', 'Lesotho', 'Namibia', 'South Africa', 'Canada',\n",
       "       'United States', 'Belize', 'Costa Rica', 'El Salvador',\n",
       "       'Guatemala', 'Honduras', 'Mexico', 'Nicaragua', 'Panama',\n",
       "       'Antigua and Barbuda', 'Bahamas', 'Barbados', 'Cuba', 'Curacao',\n",
       "       'Dominica', 'Dominican Republic', 'Grenada', 'Guadeloupe', 'Haiti',\n",
       "       'Jamaica', 'Martinique', 'Puerto Rico', 'St. Kitts-Nevis',\n",
       "       'Saint Lucia', 'St. Vincent and the Grenadines',\n",
       "       'Trinidad and Tobago', 'Argentina', 'Bolivia', 'Brazil', 'Chile',\n",
       "       'Colombia', 'Ecuador', 'French Guiana', 'Guyana', 'Paraguay',\n",
       "       'Peru', 'Suriname', 'Uruguay', 'Venezuela', 'Armenia',\n",
       "       'Azerbaijan', 'Bahrain', 'Cyprus', 'Georgia', 'Iraq', 'Israel',\n",
       "       'Jordan', 'Kuwait', 'Lebanon', 'Oman', 'Palestinian Territory',\n",
       "       'Qatar', 'Saudi Arabia', 'Syria', 'Turkey', 'United Arab Emirates',\n",
       "       'Yemen', 'Kazakhstan', 'Kyrgyzstan', 'Tajikistan', 'Turkmenistan',\n",
       "       'Uzbekistan', 'Afghanistan', 'Bangladesh', 'Bhutan', 'India',\n",
       "       'Iran', 'Maldives', 'Nepal', 'Pakistan', 'Sri Lanka', 'Brunei',\n",
       "       'Cambodia', 'Indonesia', 'Laos', 'Malaysia', 'Myanmar',\n",
       "       'Philippines', 'Singapore', 'Thailand', 'Timor-Leste', 'Vietnam',\n",
       "       'China', 'China, Hong Kong SAR', 'China, Macao SAR', 'Japan',\n",
       "       'Korea, North', 'Korea, South', 'Mongolia', 'Taiwan',\n",
       "       'Channel Islands', 'Denmark', 'Estonia', 'Finland', 'Iceland',\n",
       "       'Ireland', 'Latvia', 'Lithuania', 'Norway', 'Sweden',\n",
       "       'United Kingdom', 'Austria', 'Belgium', 'France', 'Germany',\n",
       "       'Liechtenstein', 'Luxembourg', 'Monaco', 'Netherlands',\n",
       "       'Switzerland', 'Belarus', 'Bulgaria', 'Czechia', 'Hungary',\n",
       "       'Moldova', 'Poland', 'Romania', 'Russia', 'Slovakia', 'Ukraine',\n",
       "       'Albania', 'Andorra', 'Bosnia-Herzegovina', 'Croatia', 'Greece',\n",
       "       'Italy', 'Kosovo', 'Malta', 'Montenegro', 'North Macedonia',\n",
       "       'Portugal', 'San Marino', 'Serbia', 'Slovenia', 'Spain',\n",
       "       'Australia', 'Federated States of Micronesia', 'Fiji',\n",
       "       'French Polynesia', 'Guam', 'Kiribati', 'Marshall Islands',\n",
       "       'Nauru', 'New Caledonia', 'New Zealand', 'Palau',\n",
       "       'Papua New Guinea', 'Samoa', 'Solomon Islands', 'Tonga', 'Tuvalu',\n",
       "       'Vanuatu'], dtype=object)"
      ]
     },
     "execution_count": 8,
     "metadata": {},
     "output_type": "execute_result"
    }
   ],
   "source": [
    "# Ensure that we do not have anything that is all-caps in the `Name` field\n",
    "df_wpd_country['Name'].unique()"
   ]
  },
  {
   "cell_type": "code",
   "execution_count": 9,
   "id": "1d7a0e0c",
   "metadata": {},
   "outputs": [
    {
     "data": {
      "text/plain": [
       "array(['WORLD', 'AFRICA', 'NORTHERN AFRICA', 'WESTERN AFRICA',\n",
       "       'EASTERN AFRICA', 'MIDDLE AFRICA', 'SOUTHERN AFRICA',\n",
       "       'NORTHERN AMERICA', 'LATIN AMERICA AND THE CARIBBEAN',\n",
       "       'CENTRAL AMERICA', 'CARIBBEAN', 'SOUTH AMERICA', 'ASIA',\n",
       "       'WESTERN ASIA', 'CENTRAL ASIA', 'SOUTH ASIA', 'SOUTHEAST ASIA',\n",
       "       'EAST ASIA', 'EUROPE', 'NORTHERN EUROPE', 'WESTERN EUROPE',\n",
       "       'EASTERN EUROPE', 'SOUTHERN EUROPE', 'OCEANIA'], dtype=object)"
      ]
     },
     "execution_count": 9,
     "metadata": {},
     "output_type": "execute_result"
    }
   ],
   "source": [
    "# Ensure that we only have strings that are all-caps in the `Name` field\n",
    "df_wpd_region['Name'].unique()"
   ]
  },
  {
   "cell_type": "markdown",
   "id": "13f3f130",
   "metadata": {},
   "source": [
    "We can now cache away the files that were created"
   ]
  },
  {
   "cell_type": "code",
   "execution_count": 10,
   "id": "eb894e60",
   "metadata": {},
   "outputs": [],
   "source": [
    "df_pcd.to_csv(PROCESSED_POLITICIANS_DATASET_FPATH, index=False)\n",
    "df_wpd_country.to_csv(PROCESSED_WORLD_POPULATION_COUNTRY_LEVEL_DATASET_FPATH, index=False)\n",
    "df_wpd_region.to_csv(PROCESSED_WORLD_POPULATION_REGION_LEVEL_DATASET_FPATH, index=False)"
   ]
  },
  {
   "cell_type": "markdown",
   "id": "fdb04127",
   "metadata": {},
   "source": [
    "## 2. Obtain Article Quality Predictions\n",
    "\n",
    "Now we need to get the predicted quality scores for each article in the Wikipedia dataset. We're using a machine learning system called ORES. This was originally an acronym for \"Objective Revision Evaluation Service\" but was simply renamed “ORES”. \n",
    "\n",
    "ORES is a machine learning tool that can provide estimates of Wikipedia article quality. The article quality estimates are, from best to worst:\n",
    "* FA - Featured article\n",
    "* GA - Good article\n",
    "* B - B-class article\n",
    "* C - C-class article\n",
    "* Start - Start-class article\n",
    "* Stub - Stub-class article\n",
    "\n",
    "These were learned based on articles in Wikipedia that were peer-reviewed using the Wikipedia content assessment procedures.These quality classes are a sub-set of quality assessment categories developed by Wikipedia editors. \n",
    "\n",
    "We use a [REST API](https://ores.wikimedia.org/v3/#!/scoring/get_v3_scores_context) to obtain the information for each article. "
   ]
  },
  {
   "cell_type": "code",
   "execution_count": 11,
   "id": "7f0d4d11",
   "metadata": {},
   "outputs": [],
   "source": [
    "ORES_ENDPOINT = 'https://ores.wikimedia.org/v3/scores/{context}?'\n",
    "CONTEXT = 'enwiki'\n",
    "MODEL = 'articlequality'\n",
    "NUM_REVIDS_PER_BATCH = 50 # We will obtain predictions for these many articles at a time"
   ]
  },
  {
   "cell_type": "code",
   "execution_count": 12,
   "id": "132093af",
   "metadata": {},
   "outputs": [],
   "source": [
    "df_pcd[MODEL] = np.NaN\n",
    "df_pcd.set_index('rev_id', inplace=True)"
   ]
  },
  {
   "cell_type": "code",
   "execution_count": 13,
   "id": "77c09a0f",
   "metadata": {},
   "outputs": [],
   "source": [
    "def api_call(endpoint, parameters):\n",
    "    call = requests.get(endpoint.format(**parameters))\n",
    "    response = call.json()\n",
    "    \n",
    "    return response"
   ]
  },
  {
   "cell_type": "markdown",
   "id": "9395006f",
   "metadata": {},
   "source": [
    "We want to call the API for multiple `rev_id`'s at a time. To achieve this, we create a list of lists, where each small list will contain a batch of rev_ids to be called at a time. "
   ]
  },
  {
   "cell_type": "code",
   "execution_count": 14,
   "id": "e4d511dc",
   "metadata": {},
   "outputs": [],
   "source": [
    "revids = df_pcd.index.to_list()\n",
    "num_lists = round(len(revids) / NUM_REVIDS_PER_BATCH)\n",
    "\n",
    "revids = list(map(list, np.array_split(revids, num_lists)))"
   ]
  },
  {
   "cell_type": "code",
   "execution_count": 15,
   "id": "8e94a6d5",
   "metadata": {},
   "outputs": [
    {
     "data": {
      "text/html": [
       "<div>\n",
       "<style scoped>\n",
       "    .dataframe tbody tr th:only-of-type {\n",
       "        vertical-align: middle;\n",
       "    }\n",
       "\n",
       "    .dataframe tbody tr th {\n",
       "        vertical-align: top;\n",
       "    }\n",
       "\n",
       "    .dataframe thead th {\n",
       "        text-align: right;\n",
       "    }\n",
       "</style>\n",
       "<table border=\"1\" class=\"dataframe\">\n",
       "  <thead>\n",
       "    <tr style=\"text-align: right;\">\n",
       "      <th></th>\n",
       "      <th>page</th>\n",
       "      <th>country</th>\n",
       "      <th>articlequality</th>\n",
       "    </tr>\n",
       "    <tr>\n",
       "      <th>rev_id</th>\n",
       "      <th></th>\n",
       "      <th></th>\n",
       "      <th></th>\n",
       "    </tr>\n",
       "  </thead>\n",
       "  <tbody>\n",
       "    <tr>\n",
       "      <th>355319463</th>\n",
       "      <td>Bir I of Kanem</td>\n",
       "      <td>Chad</td>\n",
       "      <td>NaN</td>\n",
       "    </tr>\n",
       "    <tr>\n",
       "      <th>393276188</th>\n",
       "      <td>Information Minister of the Palestinian Nation...</td>\n",
       "      <td>Palestinian Territory</td>\n",
       "      <td>NaN</td>\n",
       "    </tr>\n",
       "    <tr>\n",
       "      <th>393822005</th>\n",
       "      <td>Yos Por</td>\n",
       "      <td>Cambodia</td>\n",
       "      <td>NaN</td>\n",
       "    </tr>\n",
       "    <tr>\n",
       "      <th>395521877</th>\n",
       "      <td>Julius Gregr</td>\n",
       "      <td>Czech Republic</td>\n",
       "      <td>NaN</td>\n",
       "    </tr>\n",
       "    <tr>\n",
       "      <th>395526568</th>\n",
       "      <td>Edvard Gregr</td>\n",
       "      <td>Czech Republic</td>\n",
       "      <td>NaN</td>\n",
       "    </tr>\n",
       "  </tbody>\n",
       "</table>\n",
       "</div>"
      ],
      "text/plain": [
       "                                                        page  \\\n",
       "rev_id                                                         \n",
       "355319463                                     Bir I of Kanem   \n",
       "393276188  Information Minister of the Palestinian Nation...   \n",
       "393822005                                            Yos Por   \n",
       "395521877                                       Julius Gregr   \n",
       "395526568                                       Edvard Gregr   \n",
       "\n",
       "                         country  articlequality  \n",
       "rev_id                                            \n",
       "355319463                   Chad             NaN  \n",
       "393276188  Palestinian Territory             NaN  \n",
       "393822005               Cambodia             NaN  \n",
       "395521877         Czech Republic             NaN  \n",
       "395526568         Czech Republic             NaN  "
      ]
     },
     "execution_count": 15,
     "metadata": {},
     "output_type": "execute_result"
    }
   ],
   "source": [
    "df_pcd.head()"
   ]
  },
  {
   "cell_type": "code",
   "execution_count": 16,
   "id": "f11e045c",
   "metadata": {},
   "outputs": [
    {
     "ename": "NameError",
     "evalue": "name 'czs' is not defined",
     "output_type": "error",
     "traceback": [
      "\u001b[1;31m---------------------------------------------------------------------------\u001b[0m",
      "\u001b[1;31mNameError\u001b[0m                                 Traceback (most recent call last)",
      "\u001b[1;32m<ipython-input-16-d5c02c7062b1>\u001b[0m in \u001b[0;36m<module>\u001b[1;34m\u001b[0m\n\u001b[1;32m----> 1\u001b[1;33m \u001b[0mczs\u001b[0m\u001b[1;33m\u001b[0m\u001b[1;33m\u001b[0m\u001b[0m\n\u001b[0m",
      "\u001b[1;31mNameError\u001b[0m: name 'czs' is not defined"
     ]
    }
   ],
   "source": [
    "czs"
   ]
  },
  {
   "cell_type": "markdown",
   "id": "d834fb0c",
   "metadata": {},
   "source": [
    "This section is responsible for calling the API as well as error handling. The following is the procedure for each batch of `rev_ids`\n",
    "\n",
    "1. Populate the parameter and query part in the API endpoint\n",
    "2. Call the API and obtain a JSON response\n",
    "3. Check to see if the API call was sucessful \n",
    "4. Check to see if the each `rev_id` returned a valid response\n",
    "    * If the response is valid, we go ahead and save this prediction information into a dataframe\n",
    "    * If not, we add this `rev_id` to a list to show the errored out `rev_ids` later "
   ]
  },
  {
   "cell_type": "code",
   "execution_count": null,
   "id": "113e2245",
   "metadata": {},
   "outputs": [],
   "source": [
    "error_batch_list = []\n",
    "missing_revids = []\n",
    "\n",
    "for revid_batch in tqdm(revids):    \n",
    "    # Define the parameters that we ill be sending to the API\n",
    "    params = {\n",
    "        'context': CONTEXT,\n",
    "    }\n",
    "    \n",
    "    query_parms = {\n",
    "        'revids': '|'.join(str(x) for x in revid_batch),\n",
    "        'models': MODEL\n",
    "    }\n",
    "    \n",
    "    # Call the API and get the prediction from API\n",
    "    response = api_call(ORES_ENDPOINT + urlencode(query_parms), params)\n",
    "    \n",
    "    # For each rev id, we populate it with the correct prediction\n",
    "    try:\n",
    "        scores = response[CONTEXT]['scores']\n",
    "    except:\n",
    "        error_batch_list.append(revid_batch)\n",
    "        continue\n",
    "    \n",
    "    for rev_id in scores.keys():\n",
    "        if 'error' in rev_id: continue\n",
    "        \n",
    "        try:\n",
    "            prediction = scores[rev_id][MODEL]['score']['prediction']\n",
    "        except:\n",
    "            missing_revids.append(rev_id)\n",
    "            # print(scores[rev_id][MODEL])\n",
    "            continue\n",
    "        \n",
    "        rev_id = int(rev_id)\n",
    "        df_pcd.loc[rev_id, MODEL] = prediction"
   ]
  },
  {
   "cell_type": "markdown",
   "id": "3796def1",
   "metadata": {},
   "source": [
    "If a batch errored out, we iterate through each `rev_id` and call the API individually to see if that may return a valid response. This may sometimes happen because of constraints of the API"
   ]
  },
  {
   "cell_type": "code",
   "execution_count": null,
   "id": "5fb462d3",
   "metadata": {},
   "outputs": [],
   "source": [
    "for revid_batch in error_batch_list:\n",
    "    for revid in revid_batch:\n",
    "        # This is the unique id for the article\n",
    "        revid_str = str(revid)\n",
    "\n",
    "        # Define the parameters that we ill be sending to the API\n",
    "        params = {\n",
    "            'context': CONTEXT,\n",
    "            'revid': revid_str,\n",
    "            'model': MODEL\n",
    "        }\n",
    "        response = api_call(ORES_ENDPOINT, params)\n",
    "        if 'scores' not in response[CONTEXT]: continue\n",
    "        scores = response[CONTEXT]['scores'][revid_str][MODEL]\n",
    "\n",
    "        if 'error' in scores.keys():  \n",
    "            missing_revids.append(revid) # If we do not find the article, we skip it and move on\n",
    "        \n",
    "        rev_id = int(revid)\n",
    "        df_pcd.loc[rev_id, MODEL] = scores['score']['prediction']"
   ]
  },
  {
   "cell_type": "markdown",
   "id": "809aa1d9",
   "metadata": {},
   "source": [
    "### 2.1 Prediction Errors"
   ]
  },
  {
   "cell_type": "code",
   "execution_count": null,
   "id": "67e1531b",
   "metadata": {},
   "outputs": [],
   "source": [
    "missing_revids = set(missing_revids)\n",
    "print(f'There are {len(missing_revids)} rev_ids for which the API did not return a prediction.')\n",
    "\n",
    "missing_revids_df = pd.DataFrame(list(missing_revids))\n",
    "missing_revids_df.columns = ['rev_id']\n",
    "missing_revids_df.to_csv(PROCESSED_MISSING_PREDICTION_DATA_FPATH, index=False)"
   ]
  },
  {
   "cell_type": "markdown",
   "id": "69776273",
   "metadata": {},
   "source": [
    "## 3. Combining Datasets\n",
    "\n",
    "Some processing of the data will be necessary! In particular, you'll need to - after retrieving and including the ORES data for each article - merge the wikipedia data and population data together. Both have fields containing country names for just that purpose. After merging the data, you'll invariably run into entries which cannot be merged. Either the population dataset does not have an entry for the equivalent Wikipedia country, or vise versa."
   ]
  },
  {
   "cell_type": "code",
   "execution_count": 156,
   "id": "ab086afc",
   "metadata": {},
   "outputs": [],
   "source": [
    "PROCESSED_POLITICIANS_DATASET_PREDICTIONS_FPATH = os.path.join(PROCESSED_DATA_PATH, 'politicians_country_predicted.csv')\n",
    "df_pcd.to_csv(PROCESSED_POLITICIANS_DATASET_PREDICTIONS_FPATH)\n",
    "# df_pcd = pd.read_csv(PROCESSED_POLITICIANS_DATASET_PREDICTIONS_FPATH).set_index('rev_id')"
   ]
  },
  {
   "cell_type": "code",
   "execution_count": 166,
   "id": "bbfaf502",
   "metadata": {},
   "outputs": [],
   "source": [
    "# Clean and merge our 2 dataframes\n",
    "df_pcd.dropna(subset = [MODEL], inplace=True)\n",
    "df_pcd.reset_index(inplace=True)\n",
    "\n",
    "# Merge the 2 dataframes\n",
    "wp_wpds_politicians_by_country_df = pd.merge(left=df_pcd, right=df_wpd_country, left_on='country', right_on='Name')\n",
    "\n",
    "# Clean and rename the merged dataframe\n",
    "wp_wpds_politicians_by_country_df.rename(columns={'page': 'article_name', \n",
    "                                                  'rev_id': 'revision_id',\n",
    "                                                  MODEL: 'article_quality_est.',\n",
    "                                                  'Population': 'population'}, inplace=True)\n",
    "wp_wpds_politicians_by_country_df = wp_wpds_politicians_by_country_df[['country', 'article_name', 'revision_id', 'article_quality_est.', 'population']]"
   ]
  },
  {
   "cell_type": "markdown",
   "id": "cb5bb74c",
   "metadata": {},
   "source": [
    "Check to find out what countries were not merged because there was no match"
   ]
  },
  {
   "cell_type": "code",
   "execution_count": 174,
   "id": "645334fa",
   "metadata": {},
   "outputs": [],
   "source": [
    "merged_countries = set(wp_wpds_politicians_by_country_df['country'])\n",
    "all_pcd = set(df_pcd['country'])\n",
    "all_wpd_country = set(df_wpd_country['Name'])\n",
    "\n",
    "un_merged_countries_set = all_pcd.difference(merged_countries).union(all_wpd_country.difference(merged_countries))\n",
    "un_merged_countries_df = pd.DataFrame(list(un_merged_countries_set))\n",
    "un_merged_countries_df.columns = ['country']"
   ]
  },
  {
   "cell_type": "code",
   "execution_count": 145,
   "id": "c8ff1b7d",
   "metadata": {},
   "outputs": [],
   "source": [
    "wp_wpds_politicians_by_country_df.to_csv(PROCESSED_POLITICIANS_WORLD_POPULATION_MERGED_FPATH, index=False)\n",
    "un_merged_countries_df.to_csv(index=False, PROCESSED_POLITICIANS_WORLD_POPULATION_NO_MATCH_FPATH)"
   ]
  },
  {
   "cell_type": "code",
   "execution_count": 146,
   "id": "187820ff",
   "metadata": {},
   "outputs": [
    {
     "data": {
      "text/html": [
       "<div>\n",
       "<style scoped>\n",
       "    .dataframe tbody tr th:only-of-type {\n",
       "        vertical-align: middle;\n",
       "    }\n",
       "\n",
       "    .dataframe tbody tr th {\n",
       "        vertical-align: top;\n",
       "    }\n",
       "\n",
       "    .dataframe thead th {\n",
       "        text-align: right;\n",
       "    }\n",
       "</style>\n",
       "<table border=\"1\" class=\"dataframe\">\n",
       "  <thead>\n",
       "    <tr style=\"text-align: right;\">\n",
       "      <th></th>\n",
       "      <th>country</th>\n",
       "      <th>article_name</th>\n",
       "      <th>revision_id</th>\n",
       "      <th>article_quality_est.</th>\n",
       "      <th>population</th>\n",
       "    </tr>\n",
       "  </thead>\n",
       "  <tbody>\n",
       "    <tr>\n",
       "      <th>0</th>\n",
       "      <td>Finland</td>\n",
       "      <td>Vihtori Aromaa</td>\n",
       "      <td>628261896</td>\n",
       "      <td>Stub</td>\n",
       "      <td>5529000</td>\n",
       "    </tr>\n",
       "    <tr>\n",
       "      <th>1</th>\n",
       "      <td>Finland</td>\n",
       "      <td>Jonathan Wartiovaara</td>\n",
       "      <td>628268705</td>\n",
       "      <td>Stub</td>\n",
       "      <td>5529000</td>\n",
       "    </tr>\n",
       "    <tr>\n",
       "      <th>2</th>\n",
       "      <td>Finland</td>\n",
       "      <td>Arvi Turkka</td>\n",
       "      <td>628270736</td>\n",
       "      <td>Stub</td>\n",
       "      <td>5529000</td>\n",
       "    </tr>\n",
       "    <tr>\n",
       "      <th>3</th>\n",
       "      <td>Finland</td>\n",
       "      <td>Juho Heikkinen</td>\n",
       "      <td>628312759</td>\n",
       "      <td>Stub</td>\n",
       "      <td>5529000</td>\n",
       "    </tr>\n",
       "    <tr>\n",
       "      <th>4</th>\n",
       "      <td>Finland</td>\n",
       "      <td>Emanuel Aromaa</td>\n",
       "      <td>628379479</td>\n",
       "      <td>Stub</td>\n",
       "      <td>5529000</td>\n",
       "    </tr>\n",
       "  </tbody>\n",
       "</table>\n",
       "</div>"
      ],
      "text/plain": [
       "   country          article_name  revision_id article_quality_est.  population\n",
       "0  Finland        Vihtori Aromaa    628261896                 Stub     5529000\n",
       "1  Finland  Jonathan Wartiovaara    628268705                 Stub     5529000\n",
       "2  Finland           Arvi Turkka    628270736                 Stub     5529000\n",
       "3  Finland        Juho Heikkinen    628312759                 Stub     5529000\n",
       "4  Finland        Emanuel Aromaa    628379479                 Stub     5529000"
      ]
     },
     "execution_count": 146,
     "metadata": {},
     "output_type": "execute_result"
    }
   ],
   "source": [
    "wp_wpds_politicians_by_country_df.head(5)"
   ]
  },
  {
   "cell_type": "markdown",
   "id": "99757f21",
   "metadata": {},
   "source": [
    "## 4. Analysis\n",
    "\n",
    "Here we transform the data so that it can be easily consumed for the results section. \n",
    "\n",
    "We create a pivot table to show the number and types of articles for each country. Moreover, we also add relevant information for each country"
   ]
  },
  {
   "cell_type": "code",
   "execution_count": 147,
   "id": "ca74a31e",
   "metadata": {},
   "outputs": [],
   "source": [
    "df_analysis = pd.pivot_table(wp_wpds_politicians_by_country_df,\n",
    "                             fill_value=0, \n",
    "                             columns=['article_quality_est.'],\n",
    "                             aggfunc={\n",
    "                                 'article_quality_est.': len, #count the number of articles \n",
    "                             },\n",
    "                             index=['country'] #per country\n",
    "                            )\n",
    "df_analysis.columns = df_analysis.columns.droplevel() #clean up multilevel index\n",
    "df_analysis = df_analysis.reset_index()\n",
    "df_analysis.columns.name = None"
   ]
  },
  {
   "cell_type": "code",
   "execution_count": 175,
   "id": "e42bfd42",
   "metadata": {},
   "outputs": [],
   "source": [
    "# Add population to the pivot table\n",
    "df_analysis = pd.merge(left=df_analysis, \n",
    "                       right=wp_wpds_politicians_by_country_df.groupby(['country'])['population'].mean(), \n",
    "                       left_on='country', \n",
    "                       right_index=True)"
   ]
  },
  {
   "cell_type": "code",
   "execution_count": 151,
   "id": "91a291ee",
   "metadata": {},
   "outputs": [],
   "source": [
    "df_analysis['num_articles'] = df_analysis['FA'] + df_analysis['GA'] + df_analysis['B'] + df_analysis['C'] + df_analysis['Stub'] + df_analysis['Start']\n",
    "df_analysis['num_high_quality_articles'] = df_analysis['FA'] + df_analysis['GA']\n",
    "df_analysis['articles_per_population_percent'] = (df_analysis['num_high_quality_articles'] / df_analysis['population']) * 100\n",
    "df_analysis['high_quality_articles_percent'] = (df_analysis['num_high_quality_articles'] / df_analysis['num_articles']) * 100"
   ]
  },
  {
   "cell_type": "markdown",
   "id": "bae9b34a",
   "metadata": {},
   "source": [
    "After the transformation, our table now looks as follows:"
   ]
  },
  {
   "cell_type": "code",
   "execution_count": 152,
   "id": "905a3454",
   "metadata": {},
   "outputs": [
    {
     "data": {
      "text/html": [
       "<div>\n",
       "<style scoped>\n",
       "    .dataframe tbody tr th:only-of-type {\n",
       "        vertical-align: middle;\n",
       "    }\n",
       "\n",
       "    .dataframe tbody tr th {\n",
       "        vertical-align: top;\n",
       "    }\n",
       "\n",
       "    .dataframe thead th {\n",
       "        text-align: right;\n",
       "    }\n",
       "</style>\n",
       "<table border=\"1\" class=\"dataframe\">\n",
       "  <thead>\n",
       "    <tr style=\"text-align: right;\">\n",
       "      <th></th>\n",
       "      <th>country</th>\n",
       "      <th>B</th>\n",
       "      <th>C</th>\n",
       "      <th>FA</th>\n",
       "      <th>GA</th>\n",
       "      <th>Start</th>\n",
       "      <th>Stub</th>\n",
       "      <th>population</th>\n",
       "      <th>num_articles</th>\n",
       "      <th>num_high_quality_articles</th>\n",
       "      <th>articles_per_population_percent</th>\n",
       "      <th>high_quality_articles_percent</th>\n",
       "    </tr>\n",
       "  </thead>\n",
       "  <tbody>\n",
       "    <tr>\n",
       "      <th>0</th>\n",
       "      <td>Afghanistan</td>\n",
       "      <td>8</td>\n",
       "      <td>46</td>\n",
       "      <td>1</td>\n",
       "      <td>12</td>\n",
       "      <td>99</td>\n",
       "      <td>153</td>\n",
       "      <td>38928000</td>\n",
       "      <td>319</td>\n",
       "      <td>13</td>\n",
       "      <td>0.000033</td>\n",
       "      <td>4.075235</td>\n",
       "    </tr>\n",
       "    <tr>\n",
       "      <th>1</th>\n",
       "      <td>Albania</td>\n",
       "      <td>3</td>\n",
       "      <td>59</td>\n",
       "      <td>0</td>\n",
       "      <td>3</td>\n",
       "      <td>147</td>\n",
       "      <td>244</td>\n",
       "      <td>2838000</td>\n",
       "      <td>456</td>\n",
       "      <td>3</td>\n",
       "      <td>0.000106</td>\n",
       "      <td>0.657895</td>\n",
       "    </tr>\n",
       "    <tr>\n",
       "      <th>2</th>\n",
       "      <td>Algeria</td>\n",
       "      <td>3</td>\n",
       "      <td>10</td>\n",
       "      <td>0</td>\n",
       "      <td>2</td>\n",
       "      <td>44</td>\n",
       "      <td>57</td>\n",
       "      <td>44357000</td>\n",
       "      <td>116</td>\n",
       "      <td>2</td>\n",
       "      <td>0.000005</td>\n",
       "      <td>1.724138</td>\n",
       "    </tr>\n",
       "    <tr>\n",
       "      <th>3</th>\n",
       "      <td>Andorra</td>\n",
       "      <td>0</td>\n",
       "      <td>2</td>\n",
       "      <td>0</td>\n",
       "      <td>0</td>\n",
       "      <td>8</td>\n",
       "      <td>24</td>\n",
       "      <td>82000</td>\n",
       "      <td>34</td>\n",
       "      <td>0</td>\n",
       "      <td>0.000000</td>\n",
       "      <td>0.000000</td>\n",
       "    </tr>\n",
       "    <tr>\n",
       "      <th>4</th>\n",
       "      <td>Angola</td>\n",
       "      <td>2</td>\n",
       "      <td>6</td>\n",
       "      <td>0</td>\n",
       "      <td>0</td>\n",
       "      <td>23</td>\n",
       "      <td>74</td>\n",
       "      <td>32522000</td>\n",
       "      <td>105</td>\n",
       "      <td>0</td>\n",
       "      <td>0.000000</td>\n",
       "      <td>0.000000</td>\n",
       "    </tr>\n",
       "  </tbody>\n",
       "</table>\n",
       "</div>"
      ],
      "text/plain": [
       "       country  B   C  FA  GA  Start  Stub  population  num_articles  \\\n",
       "0  Afghanistan  8  46   1  12     99   153    38928000           319   \n",
       "1      Albania  3  59   0   3    147   244     2838000           456   \n",
       "2      Algeria  3  10   0   2     44    57    44357000           116   \n",
       "3      Andorra  0   2   0   0      8    24       82000            34   \n",
       "4       Angola  2   6   0   0     23    74    32522000           105   \n",
       "\n",
       "   num_high_quality_articles  articles_per_population_percent  \\\n",
       "0                         13                         0.000033   \n",
       "1                          3                         0.000106   \n",
       "2                          2                         0.000005   \n",
       "3                          0                         0.000000   \n",
       "4                          0                         0.000000   \n",
       "\n",
       "   high_quality_articles_percent  \n",
       "0                       4.075235  \n",
       "1                       0.657895  \n",
       "2                       1.724138  \n",
       "3                       0.000000  \n",
       "4                       0.000000  "
      ]
     },
     "execution_count": 152,
     "metadata": {},
     "output_type": "execute_result"
    }
   ],
   "source": [
    "df_analysis.head(5)"
   ]
  },
  {
   "cell_type": "markdown",
   "id": "5fd953fa",
   "metadata": {},
   "source": [
    "## 5. Results"
   ]
  },
  {
   "cell_type": "code",
   "execution_count": 154,
   "id": "df9a66cb",
   "metadata": {},
   "outputs": [],
   "source": [
    "def show_results(df, _by, _ascending=True, n=10):\n",
    "    cols = ['country'] + _by\n",
    "    return df.sort_values(by=_by, ascending=_ascending).head(n)[cols]"
   ]
  },
  {
   "cell_type": "markdown",
   "id": "772552d8",
   "metadata": {},
   "source": [
    "### 5.1\n",
    "Top 10 countries by coverage: 10 highest-ranked countries in terms of number of politician articles as a proportion of country population"
   ]
  },
  {
   "cell_type": "code",
   "execution_count": 155,
   "id": "2fd9c5d3",
   "metadata": {},
   "outputs": [
    {
     "data": {
      "text/html": [
       "<div>\n",
       "<style scoped>\n",
       "    .dataframe tbody tr th:only-of-type {\n",
       "        vertical-align: middle;\n",
       "    }\n",
       "\n",
       "    .dataframe tbody tr th {\n",
       "        vertical-align: top;\n",
       "    }\n",
       "\n",
       "    .dataframe thead th {\n",
       "        text-align: right;\n",
       "    }\n",
       "</style>\n",
       "<table border=\"1\" class=\"dataframe\">\n",
       "  <thead>\n",
       "    <tr style=\"text-align: right;\">\n",
       "      <th></th>\n",
       "      <th>country</th>\n",
       "      <th>articles_per_population_percent</th>\n",
       "    </tr>\n",
       "  </thead>\n",
       "  <tbody>\n",
       "    <tr>\n",
       "      <th>169</th>\n",
       "      <td>Tuvalu</td>\n",
       "      <td>0.040000</td>\n",
       "    </tr>\n",
       "    <tr>\n",
       "      <th>44</th>\n",
       "      <td>Dominica</td>\n",
       "      <td>0.001389</td>\n",
       "    </tr>\n",
       "    <tr>\n",
       "      <th>177</th>\n",
       "      <td>Vanuatu</td>\n",
       "      <td>0.000935</td>\n",
       "    </tr>\n",
       "    <tr>\n",
       "      <th>70</th>\n",
       "      <td>Iceland</td>\n",
       "      <td>0.000543</td>\n",
       "    </tr>\n",
       "    <tr>\n",
       "      <th>75</th>\n",
       "      <td>Ireland</td>\n",
       "      <td>0.000500</td>\n",
       "    </tr>\n",
       "    <tr>\n",
       "      <th>112</th>\n",
       "      <td>Montenegro</td>\n",
       "      <td>0.000322</td>\n",
       "    </tr>\n",
       "    <tr>\n",
       "      <th>105</th>\n",
       "      <td>Martinique</td>\n",
       "      <td>0.000281</td>\n",
       "    </tr>\n",
       "    <tr>\n",
       "      <th>19</th>\n",
       "      <td>Bhutan</td>\n",
       "      <td>0.000274</td>\n",
       "    </tr>\n",
       "    <tr>\n",
       "      <th>120</th>\n",
       "      <td>New Zealand</td>\n",
       "      <td>0.000261</td>\n",
       "    </tr>\n",
       "    <tr>\n",
       "      <th>135</th>\n",
       "      <td>Romania</td>\n",
       "      <td>0.000218</td>\n",
       "    </tr>\n",
       "  </tbody>\n",
       "</table>\n",
       "</div>"
      ],
      "text/plain": [
       "         country  articles_per_population_percent\n",
       "169       Tuvalu                         0.040000\n",
       "44      Dominica                         0.001389\n",
       "177      Vanuatu                         0.000935\n",
       "70       Iceland                         0.000543\n",
       "75       Ireland                         0.000500\n",
       "112   Montenegro                         0.000322\n",
       "105   Martinique                         0.000281\n",
       "19        Bhutan                         0.000274\n",
       "120  New Zealand                         0.000261\n",
       "135      Romania                         0.000218"
      ]
     },
     "execution_count": 155,
     "metadata": {},
     "output_type": "execute_result"
    }
   ],
   "source": [
    "# df_analysis.sort_values(by=['articles_per_population_percent'], ascending=False).head(10)['']\n",
    "show_results(df_analysis, _by=['articles_per_population_percent'], _ascending=False)"
   ]
  },
  {
   "cell_type": "markdown",
   "id": "0f222be4",
   "metadata": {},
   "source": [
    "### 5.2\n",
    "\n",
    "Bottom 10 countries by coverage: 10 lowest-ranked countries in terms of number of politician articles as a proportion of country population"
   ]
  },
  {
   "cell_type": "markdown",
   "id": "a56c5b51",
   "metadata": {},
   "source": [
    "### 5.3 \n",
    "Top 10 countries by relative quality: 10 highest-ranked countries in terms of the relative proportion of politician articles that are of GA and FA-quality"
   ]
  },
  {
   "cell_type": "markdown",
   "id": "d5cc94d1",
   "metadata": {},
   "source": [
    "### 5.4\n",
    "Bottom 10 countries by relative quality: 10 lowest-ranked countries in terms of the relative proportion of politician articles that are of GA and FA-quality"
   ]
  },
  {
   "cell_type": "markdown",
   "id": "621b3aea",
   "metadata": {},
   "source": [
    "### 5.5\n",
    "Geographic regions by coverage: Ranking of geographic regions (in descending order) in terms of the total count of politician articles from countries in each region as a proportion of total regional population"
   ]
  },
  {
   "cell_type": "markdown",
   "id": "1866f05d",
   "metadata": {},
   "source": [
    "### 5.6\n",
    "Geographic regions by coverage: Ranking of geographic regions (in descending order) in terms of the relative proportion of politician articles from countries in each region that are of GA and FA-quality"
   ]
  }
 ],
 "metadata": {
  "kernelspec": {
   "display_name": "Python 3",
   "language": "python",
   "name": "python3"
  },
  "language_info": {
   "codemirror_mode": {
    "name": "ipython",
    "version": 3
   },
   "file_extension": ".py",
   "mimetype": "text/x-python",
   "name": "python",
   "nbconvert_exporter": "python",
   "pygments_lexer": "ipython3",
   "version": "3.8.8"
  }
 },
 "nbformat": 4,
 "nbformat_minor": 5
}

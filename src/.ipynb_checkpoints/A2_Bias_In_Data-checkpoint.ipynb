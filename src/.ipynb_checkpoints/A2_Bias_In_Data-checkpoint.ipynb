{
 "cells": [
  {
   "cell_type": "markdown",
   "id": "639ca944",
   "metadata": {},
   "source": [
    "# A2: Bias in Data"
   ]
  },
  {
   "cell_type": "markdown",
   "id": "572f913b",
   "metadata": {},
   "source": [
    "### Import Libraries"
   ]
  },
  {
   "cell_type": "code",
   "execution_count": 1,
   "id": "4b2f6d57",
   "metadata": {},
   "outputs": [],
   "source": [
    "import os\n",
    "\n",
    "import pandas as pd\n",
    "import numpy as np\n",
    "\n",
    "from pprint import pprint as pp"
   ]
  },
  {
   "cell_type": "markdown",
   "id": "246c9c1f",
   "metadata": {},
   "source": [
    "### Define Constants"
   ]
  },
  {
   "cell_type": "code",
   "execution_count": 2,
   "id": "8ab19b3e",
   "metadata": {},
   "outputs": [],
   "source": [
    "RAW_DATA_PATH = '../data/raw'\n",
    "PROCESSED_DATA_PATH = '../data/processed'\n",
    "VISUALIZATIONS_DATA_PATH = '../data/visualizations'\n",
    "\n",
    "for path in [RAW_DATA_PATH, PROCESSED_DATA_PATH, VISUALIZATIONS_DATA_PATH]:\n",
    "    if not os.path.exists(path):\n",
    "        os.makedirs(path)"
   ]
  },
  {
   "cell_type": "markdown",
   "id": "8d74ed92",
   "metadata": {},
   "source": [
    "## 1. Data Acquisition\n",
    "\n",
    "We obtain the data from several different places:\n",
    "1. The Wikipedia politicians by country dataset can be found on [Figshare](https://figshare.com/articles/Untitled_Item/5513449)\n",
    "    * We first download the zipped folder manually\n",
    "    * We then extracted the zipped folder\n",
    "    * Inside the folder we go to: `country/country/data`\n",
    "    * Here, we copy `page_data.csv` and place this inside the raw data path\n",
    "2. The population data is available in CSV format as [WPDS_2020_data.csv](https://docs.google.com/spreadsheets/d/1CFJO2zna2No5KqNm9rPK5PCACoXKzb-nycJFhV689Iw/edit?usp=sharing)\n",
    "    * This dataset is drawn from the world population data sheet published by the [Population Reference Bureau](https://www.prb.org/international/indicator/population/table/).\n"
   ]
  },
  {
   "cell_type": "code",
   "execution_count": 3,
   "id": "193cc544",
   "metadata": {},
   "outputs": [],
   "source": [
    "COUNTRY_DATASET_FPATH = os.path.join(RAW_DATA_PATH, 'page_data.csv')\n",
    "WORLD_POPULATION_DATASET_FPATH = os.path.join(RAW_DATA_PATH, 'WPDS_2020_data.csv')"
   ]
  },
  {
   "cell_type": "code",
   "execution_count": 4,
   "id": "3f921ac2",
   "metadata": {},
   "outputs": [],
   "source": [
    "df_cd = pd.read_csv(COUNTRY_DATASET_FPATH)\n",
    "df_pd = pd.read_csv(WORLD_POPULATION_DATASET_FPATH)"
   ]
  },
  {
   "cell_type": "code",
   "execution_count": 5,
   "id": "c8171856",
   "metadata": {},
   "outputs": [
    {
     "data": {
      "text/html": [
       "<div>\n",
       "<style scoped>\n",
       "    .dataframe tbody tr th:only-of-type {\n",
       "        vertical-align: middle;\n",
       "    }\n",
       "\n",
       "    .dataframe tbody tr th {\n",
       "        vertical-align: top;\n",
       "    }\n",
       "\n",
       "    .dataframe thead th {\n",
       "        text-align: right;\n",
       "    }\n",
       "</style>\n",
       "<table border=\"1\" class=\"dataframe\">\n",
       "  <thead>\n",
       "    <tr style=\"text-align: right;\">\n",
       "      <th></th>\n",
       "      <th>page</th>\n",
       "      <th>country</th>\n",
       "      <th>rev_id</th>\n",
       "    </tr>\n",
       "  </thead>\n",
       "  <tbody>\n",
       "    <tr>\n",
       "      <th>0</th>\n",
       "      <td>Template:ZambiaProvincialMinisters</td>\n",
       "      <td>Zambia</td>\n",
       "      <td>235107991</td>\n",
       "    </tr>\n",
       "    <tr>\n",
       "      <th>1</th>\n",
       "      <td>Bir I of Kanem</td>\n",
       "      <td>Chad</td>\n",
       "      <td>355319463</td>\n",
       "    </tr>\n",
       "    <tr>\n",
       "      <th>2</th>\n",
       "      <td>Template:Zimbabwe-politician-stub</td>\n",
       "      <td>Zimbabwe</td>\n",
       "      <td>391862046</td>\n",
       "    </tr>\n",
       "    <tr>\n",
       "      <th>3</th>\n",
       "      <td>Template:Uganda-politician-stub</td>\n",
       "      <td>Uganda</td>\n",
       "      <td>391862070</td>\n",
       "    </tr>\n",
       "    <tr>\n",
       "      <th>4</th>\n",
       "      <td>Template:Namibia-politician-stub</td>\n",
       "      <td>Namibia</td>\n",
       "      <td>391862409</td>\n",
       "    </tr>\n",
       "  </tbody>\n",
       "</table>\n",
       "</div>"
      ],
      "text/plain": [
       "                                 page   country     rev_id\n",
       "0  Template:ZambiaProvincialMinisters    Zambia  235107991\n",
       "1                      Bir I of Kanem      Chad  355319463\n",
       "2   Template:Zimbabwe-politician-stub  Zimbabwe  391862046\n",
       "3     Template:Uganda-politician-stub    Uganda  391862070\n",
       "4    Template:Namibia-politician-stub   Namibia  391862409"
      ]
     },
     "execution_count": 5,
     "metadata": {},
     "output_type": "execute_result"
    }
   ],
   "source": [
    "df_cd.head(5)"
   ]
  },
  {
   "cell_type": "code",
   "execution_count": 6,
   "id": "49599b79",
   "metadata": {},
   "outputs": [
    {
     "data": {
      "text/html": [
       "<div>\n",
       "<style scoped>\n",
       "    .dataframe tbody tr th:only-of-type {\n",
       "        vertical-align: middle;\n",
       "    }\n",
       "\n",
       "    .dataframe tbody tr th {\n",
       "        vertical-align: top;\n",
       "    }\n",
       "\n",
       "    .dataframe thead th {\n",
       "        text-align: right;\n",
       "    }\n",
       "</style>\n",
       "<table border=\"1\" class=\"dataframe\">\n",
       "  <thead>\n",
       "    <tr style=\"text-align: right;\">\n",
       "      <th></th>\n",
       "      <th>FIPS</th>\n",
       "      <th>Name</th>\n",
       "      <th>Type</th>\n",
       "      <th>TimeFrame</th>\n",
       "      <th>Data (M)</th>\n",
       "      <th>Population</th>\n",
       "    </tr>\n",
       "  </thead>\n",
       "  <tbody>\n",
       "    <tr>\n",
       "      <th>0</th>\n",
       "      <td>WORLD</td>\n",
       "      <td>WORLD</td>\n",
       "      <td>World</td>\n",
       "      <td>2019</td>\n",
       "      <td>7772.850</td>\n",
       "      <td>7772850000</td>\n",
       "    </tr>\n",
       "    <tr>\n",
       "      <th>1</th>\n",
       "      <td>AFRICA</td>\n",
       "      <td>AFRICA</td>\n",
       "      <td>Sub-Region</td>\n",
       "      <td>2019</td>\n",
       "      <td>1337.918</td>\n",
       "      <td>1337918000</td>\n",
       "    </tr>\n",
       "    <tr>\n",
       "      <th>2</th>\n",
       "      <td>NORTHERN AFRICA</td>\n",
       "      <td>NORTHERN AFRICA</td>\n",
       "      <td>Sub-Region</td>\n",
       "      <td>2019</td>\n",
       "      <td>244.344</td>\n",
       "      <td>244344000</td>\n",
       "    </tr>\n",
       "    <tr>\n",
       "      <th>3</th>\n",
       "      <td>DZ</td>\n",
       "      <td>Algeria</td>\n",
       "      <td>Country</td>\n",
       "      <td>2019</td>\n",
       "      <td>44.357</td>\n",
       "      <td>44357000</td>\n",
       "    </tr>\n",
       "    <tr>\n",
       "      <th>4</th>\n",
       "      <td>EG</td>\n",
       "      <td>Egypt</td>\n",
       "      <td>Country</td>\n",
       "      <td>2019</td>\n",
       "      <td>100.803</td>\n",
       "      <td>100803000</td>\n",
       "    </tr>\n",
       "  </tbody>\n",
       "</table>\n",
       "</div>"
      ],
      "text/plain": [
       "              FIPS             Name        Type  TimeFrame  Data (M)  \\\n",
       "0            WORLD            WORLD       World       2019  7772.850   \n",
       "1           AFRICA           AFRICA  Sub-Region       2019  1337.918   \n",
       "2  NORTHERN AFRICA  NORTHERN AFRICA  Sub-Region       2019   244.344   \n",
       "3               DZ          Algeria     Country       2019    44.357   \n",
       "4               EG            Egypt     Country       2019   100.803   \n",
       "\n",
       "   Population  \n",
       "0  7772850000  \n",
       "1  1337918000  \n",
       "2   244344000  \n",
       "3    44357000  \n",
       "4   100803000  "
      ]
     },
     "execution_count": 6,
     "metadata": {},
     "output_type": "execute_result"
    }
   ],
   "source": [
    "df_pd.head(5)"
   ]
  },
  {
   "cell_type": "markdown",
   "id": "7257c65a",
   "metadata": {},
   "source": [
    "### Data Cleaning\n",
    "\n",
    "There is some information that is not needed for analysis in each of the files mentioned above. Thus, we performing the following cleaning steps:\n",
    "1. Country Dataset\n",
    "    * The dataset contains some page names that start with the string \"Template:\".\n",
    "    * These pages are not Wikipedia articles, and should not be included in your analysis.\n",
    "2. Population Dataset\n",
    "    * This dataset contains some rows that provide cumulative regional population counts, rather than country-level counts.\n",
    "    * These rows are distinguished by having ALL CAPS values in the 'geography' field (e.g. AFRICA, OCEANIA).\n",
    "    * We remove these from the dataset, but retain a copy of these in a seperate file"
   ]
  },
  {
   "cell_type": "code",
   "execution_count": 7,
   "id": "978744fd",
   "metadata": {},
   "outputs": [],
   "source": [
    "df_cd = df_cd[df_cd[\"page\"].str.contains(\"Template:\")==False]\n",
    "df_pd_country = df_pd[df_pd['Name'].str.isupper() == False] #Country-level counts\n",
    "df_pd_region = df_pd[df_pd['Name'].str.isupper()] #Cumulative region level counts"
   ]
  },
  {
   "cell_type": "code",
   "execution_count": 8,
   "id": "fe09811c",
   "metadata": {},
   "outputs": [
    {
     "data": {
      "text/plain": [
       "array(['Algeria', 'Egypt', 'Libya', 'Morocco', 'Sudan', 'Tunisia',\n",
       "       'Western Sahara', 'Benin', 'Burkina Faso', 'Cape Verde',\n",
       "       \"Cote d'Ivoire\", 'Gambia', 'Ghana', 'Guinea', 'Guinea-Bissau',\n",
       "       'Liberia', 'Mali', 'Mauritania', 'Niger', 'Nigeria', 'Senegal',\n",
       "       'Sierra Leone', 'Togo', 'Burundi', 'Comoros', 'Djibouti',\n",
       "       'Eritrea', 'Ethiopia', 'Kenya', 'Madagascar', 'Malawi',\n",
       "       'Mauritius', 'Mayotte', 'Mozambique', 'Reunion', 'Rwanda',\n",
       "       'Seychelles', 'Somalia', 'South Sudan', 'Tanzania', 'Uganda',\n",
       "       'Zambia', 'Zimbabwe', 'Angola', 'Cameroon',\n",
       "       'Central African Republic', 'Chad', 'Congo', 'Congo, Dem. Rep.',\n",
       "       'Equatorial Guinea', 'Gabon', 'Sao Tome and Principe', 'Botswana',\n",
       "       'eSwatini', 'Lesotho', 'Namibia', 'South Africa', 'Canada',\n",
       "       'United States', 'Belize', 'Costa Rica', 'El Salvador',\n",
       "       'Guatemala', 'Honduras', 'Mexico', 'Nicaragua', 'Panama',\n",
       "       'Antigua and Barbuda', 'Bahamas', 'Barbados', 'Cuba', 'Curacao',\n",
       "       'Dominica', 'Dominican Republic', 'Grenada', 'Guadeloupe', 'Haiti',\n",
       "       'Jamaica', 'Martinique', 'Puerto Rico', 'St. Kitts-Nevis',\n",
       "       'Saint Lucia', 'St. Vincent and the Grenadines',\n",
       "       'Trinidad and Tobago', 'Argentina', 'Bolivia', 'Brazil', 'Chile',\n",
       "       'Colombia', 'Ecuador', 'French Guiana', 'Guyana', 'Paraguay',\n",
       "       'Peru', 'Suriname', 'Uruguay', 'Venezuela', 'Armenia',\n",
       "       'Azerbaijan', 'Bahrain', 'Cyprus', 'Georgia', 'Iraq', 'Israel',\n",
       "       'Jordan', 'Kuwait', 'Lebanon', 'Oman', 'Palestinian Territory',\n",
       "       'Qatar', 'Saudi Arabia', 'Syria', 'Turkey', 'United Arab Emirates',\n",
       "       'Yemen', 'Kazakhstan', 'Kyrgyzstan', 'Tajikistan', 'Turkmenistan',\n",
       "       'Uzbekistan', 'Afghanistan', 'Bangladesh', 'Bhutan', 'India',\n",
       "       'Iran', 'Maldives', 'Nepal', 'Pakistan', 'Sri Lanka', 'Brunei',\n",
       "       'Cambodia', 'Indonesia', 'Laos', 'Malaysia', 'Myanmar',\n",
       "       'Philippines', 'Singapore', 'Thailand', 'Timor-Leste', 'Vietnam',\n",
       "       'China', 'China, Hong Kong SAR', 'China, Macao SAR', 'Japan',\n",
       "       'Korea, North', 'Korea, South', 'Mongolia', 'Taiwan',\n",
       "       'Channel Islands', 'Denmark', 'Estonia', 'Finland', 'Iceland',\n",
       "       'Ireland', 'Latvia', 'Lithuania', 'Norway', 'Sweden',\n",
       "       'United Kingdom', 'Austria', 'Belgium', 'France', 'Germany',\n",
       "       'Liechtenstein', 'Luxembourg', 'Monaco', 'Netherlands',\n",
       "       'Switzerland', 'Belarus', 'Bulgaria', 'Czechia', 'Hungary',\n",
       "       'Moldova', 'Poland', 'Romania', 'Russia', 'Slovakia', 'Ukraine',\n",
       "       'Albania', 'Andorra', 'Bosnia-Herzegovina', 'Croatia', 'Greece',\n",
       "       'Italy', 'Kosovo', 'Malta', 'Montenegro', 'North Macedonia',\n",
       "       'Portugal', 'San Marino', 'Serbia', 'Slovenia', 'Spain',\n",
       "       'Australia', 'Federated States of Micronesia', 'Fiji',\n",
       "       'French Polynesia', 'Guam', 'Kiribati', 'Marshall Islands',\n",
       "       'Nauru', 'New Caledonia', 'New Zealand', 'Palau',\n",
       "       'Papua New Guinea', 'Samoa', 'Solomon Islands', 'Tonga', 'Tuvalu',\n",
       "       'Vanuatu'], dtype=object)"
      ]
     },
     "execution_count": 8,
     "metadata": {},
     "output_type": "execute_result"
    }
   ],
   "source": [
    "# Ensure that we do not have anything that is all-caps in the `Name` field\n",
    "df_pd_country['Name'].unique()"
   ]
  },
  {
   "cell_type": "code",
   "execution_count": 9,
   "id": "4ebd3f74",
   "metadata": {},
   "outputs": [
    {
     "data": {
      "text/plain": [
       "array(['WORLD', 'AFRICA', 'NORTHERN AFRICA', 'WESTERN AFRICA',\n",
       "       'EASTERN AFRICA', 'MIDDLE AFRICA', 'SOUTHERN AFRICA',\n",
       "       'NORTHERN AMERICA', 'LATIN AMERICA AND THE CARIBBEAN',\n",
       "       'CENTRAL AMERICA', 'CARIBBEAN', 'SOUTH AMERICA', 'ASIA',\n",
       "       'WESTERN ASIA', 'CENTRAL ASIA', 'SOUTH ASIA', 'SOUTHEAST ASIA',\n",
       "       'EAST ASIA', 'EUROPE', 'NORTHERN EUROPE', 'WESTERN EUROPE',\n",
       "       'EASTERN EUROPE', 'SOUTHERN EUROPE', 'OCEANIA'], dtype=object)"
      ]
     },
     "execution_count": 9,
     "metadata": {},
     "output_type": "execute_result"
    }
   ],
   "source": [
    "# Ensure that we only have strings that are all-caps in the `Name` field\n",
    "df_pd_region['Name'].unique()"
   ]
  },
  {
   "cell_type": "code",
   "execution_count": null,
   "id": "7614c3c9",
   "metadata": {},
   "outputs": [],
   "source": []
  }
 ],
 "metadata": {
  "kernelspec": {
   "display_name": "Python 3",
   "language": "python",
   "name": "python3"
  },
  "language_info": {
   "codemirror_mode": {
    "name": "ipython",
    "version": 3
   },
   "file_extension": ".py",
   "mimetype": "text/x-python",
   "name": "python",
   "nbconvert_exporter": "python",
   "pygments_lexer": "ipython3",
   "version": "3.8.8"
  }
 },
 "nbformat": 4,
 "nbformat_minor": 5
}
